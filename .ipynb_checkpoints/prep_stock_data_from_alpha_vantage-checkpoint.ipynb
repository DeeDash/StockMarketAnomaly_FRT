{
 "cells": [
  {
   "cell_type": "code",
   "execution_count": 1,
   "metadata": {
    "scrolled": true
   },
   "outputs": [
    {
     "name": "stdout",
     "output_type": "stream",
     "text": [
      "            1. open  2. high  3. low  4. close   5. volume\n",
      "date                                                      \n",
      "1998-01-09   131.25   133.63  125.87    127.00  46857300.0\n",
      "1998-01-16   124.62   135.38  124.37    135.25  40459900.0\n",
      "1998-01-23   134.13   139.88  134.00    138.25  46621800.0\n",
      "1998-01-30   139.88   150.13  138.45    149.19  46856000.0\n",
      "1998-02-06   151.75   158.75  150.50    158.13  42349700.0\n"
     ]
    }
   ],
   "source": [
    "from alpha_vantage.timeseries import TimeSeries\n",
    "import matplotlib.pyplot as plt\n",
    "ts = TimeSeries(key='PLEASE_ENTER_YOUR_OWN_ALPHA_VANTAGE_API_KEY',output_format='pandas') #pandas\n",
    "df, meta_data = ts.get_weekly(symbol='MSFT')\n",
    "print(df.head())"
   ]
  },
  {
   "cell_type": "code",
   "execution_count": null,
   "metadata": {},
   "outputs": [],
   "source": []
  },
  {
   "cell_type": "markdown",
   "metadata": {},
   "source": [
    "Reset Dataframe Index"
   ]
  },
  {
   "cell_type": "code",
   "execution_count": 2,
   "metadata": {},
   "outputs": [
    {
     "name": "stdout",
     "output_type": "stream",
     "text": [
      "         date  1. open  2. high  3. low  4. close   5. volume\n",
      "0  1998-01-09   131.25   133.63  125.87    127.00  46857300.0\n",
      "1  1998-01-16   124.62   135.38  124.37    135.25  40459900.0\n",
      "2  1998-01-23   134.13   139.88  134.00    138.25  46621800.0\n",
      "3  1998-01-30   139.88   150.13  138.45    149.19  46856000.0\n",
      "4  1998-02-06   151.75   158.75  150.50    158.13  42349700.0\n"
     ]
    }
   ],
   "source": [
    "df.reset_index(inplace=True)\n",
    "print(df.head())"
   ]
  },
  {
   "cell_type": "markdown",
   "metadata": {},
   "source": [
    "Drop unnecessary columns from Dataframe, we only look into close value as an example."
   ]
  },
  {
   "cell_type": "code",
   "execution_count": 3,
   "metadata": {},
   "outputs": [
    {
     "name": "stdout",
     "output_type": "stream",
     "text": [
      "         date  4. close\n",
      "0  1998-01-09    127.00\n",
      "1  1998-01-16    135.25\n",
      "2  1998-01-23    138.25\n",
      "3  1998-01-30    149.19\n",
      "4  1998-02-06    158.13\n"
     ]
    }
   ],
   "source": [
    "df.drop('1. open', axis=1, inplace=True)\n",
    "df.drop('5. volume', axis=1, inplace=True)\n",
    "df.drop('3. low', axis=1, inplace=True)\n",
    "df.drop('2. high', axis=1, inplace=True)\n",
    "print(df.head())"
   ]
  },
  {
   "cell_type": "markdown",
   "metadata": {},
   "source": [
    "Rename Dataframe columns name"
   ]
  },
  {
   "cell_type": "code",
   "execution_count": 4,
   "metadata": {},
   "outputs": [
    {
     "name": "stdout",
     "output_type": "stream",
     "text": [
      "    timestamp   value\n",
      "0  1998-01-09  127.00\n",
      "1  1998-01-16  135.25\n",
      "2  1998-01-23  138.25\n",
      "3  1998-01-30  149.19\n",
      "4  1998-02-06  158.13\n"
     ]
    }
   ],
   "source": [
    "df.rename(columns={'date':'timestamp','4. close':'value'}, inplace=True)\n",
    "print(df.head())"
   ]
  },
  {
   "cell_type": "markdown",
   "metadata": {},
   "source": [
    "Sort Dataframe timestamp column"
   ]
  },
  {
   "cell_type": "code",
   "execution_count": 5,
   "metadata": {},
   "outputs": [
    {
     "name": "stdout",
     "output_type": "stream",
     "text": [
      "    timestamp   value\n",
      "0  1998-01-09  127.00\n",
      "1  1998-01-16  135.25\n",
      "2  1998-01-23  138.25\n",
      "3  1998-01-30  149.19\n",
      "4  1998-02-06  158.13\n"
     ]
    }
   ],
   "source": [
    "df.sort_values(by=['timestamp'], inplace=True)\n",
    "print(df.head())"
   ]
  },
  {
   "cell_type": "markdown",
   "metadata": {},
   "source": [
    "Count number of row in Dataframe"
   ]
  },
  {
   "cell_type": "code",
   "execution_count": 6,
   "metadata": {},
   "outputs": [
    {
     "data": {
      "text/plain": [
       "timestamp    1110\n",
       "value        1110\n",
       "dtype: int64"
      ]
     },
     "execution_count": 6,
     "metadata": {},
     "output_type": "execute_result"
    }
   ],
   "source": [
    "df.count()"
   ]
  },
  {
   "cell_type": "markdown",
   "metadata": {},
   "source": [
    "Drop unnecessary rows from Dataframe, we only look into latest 48 weeks (1 year) data as an example."
   ]
  },
  {
   "cell_type": "code",
   "execution_count": 7,
   "metadata": {},
   "outputs": [],
   "source": [
    "df.drop(df.index[0:1061], inplace=True)"
   ]
  },
  {
   "cell_type": "markdown",
   "metadata": {},
   "source": [
    "Drop current week data"
   ]
  },
  {
   "cell_type": "code",
   "execution_count": 8,
   "metadata": {},
   "outputs": [],
   "source": [
    "df.drop(df.index[48], inplace=True)"
   ]
  },
  {
   "cell_type": "code",
   "execution_count": 9,
   "metadata": {},
   "outputs": [
    {
     "data": {
      "text/plain": [
       "timestamp    48\n",
       "value        48\n",
       "dtype: int64"
      ]
     },
     "execution_count": 9,
     "metadata": {},
     "output_type": "execute_result"
    }
   ],
   "source": [
    "df.count()"
   ]
  },
  {
   "cell_type": "code",
   "execution_count": 10,
   "metadata": {},
   "outputs": [
    {
     "name": "stdout",
     "output_type": "stream",
     "text": [
      "       timestamp   value\n",
      "1061  2018-05-11   97.70\n",
      "1062  2018-05-18   96.36\n",
      "1063  2018-05-25   98.36\n",
      "1064  2018-06-01  100.79\n",
      "1065  2018-06-08  101.63\n"
     ]
    }
   ],
   "source": [
    "print(df.head())"
   ]
  },
  {
   "cell_type": "markdown",
   "metadata": {},
   "source": [
    "Add specific datetime format in timestamp column"
   ]
  },
  {
   "cell_type": "code",
   "execution_count": 11,
   "metadata": {},
   "outputs": [],
   "source": [
    "df['timestamp'] = df['timestamp'].astype(str) + 'T00:00:00Z'"
   ]
  },
  {
   "cell_type": "markdown",
   "metadata": {},
   "source": [
    "Round up value in valume column"
   ]
  },
  {
   "cell_type": "code",
   "execution_count": 12,
   "metadata": {},
   "outputs": [],
   "source": [
    "decimals = 0\n",
    "df['value'] = df['value'].apply(lambda x: round(x))"
   ]
  },
  {
   "cell_type": "code",
   "execution_count": 13,
   "metadata": {},
   "outputs": [
    {
     "name": "stdout",
     "output_type": "stream",
     "text": [
      "                 timestamp  value\n",
      "1061  2018-05-11T00:00:00Z     98\n",
      "1062  2018-05-18T00:00:00Z     96\n",
      "1063  2018-05-25T00:00:00Z     98\n",
      "1064  2018-06-01T00:00:00Z    101\n",
      "1065  2018-06-08T00:00:00Z    102\n"
     ]
    }
   ],
   "source": [
    "print(df.head())"
   ]
  },
  {
   "cell_type": "markdown",
   "metadata": {},
   "source": [
    "Export Dataframe to JSON file"
   ]
  },
  {
   "cell_type": "code",
   "execution_count": 14,
   "metadata": {},
   "outputs": [],
   "source": [
    "df.to_json (r'stockdatafromav.json',orient='records')"
   ]
  },
  {
   "cell_type": "markdown",
   "metadata": {},
   "source": [
    "Trying to import JSON data"
   ]
  },
  {
   "cell_type": "code",
   "execution_count": 15,
   "metadata": {},
   "outputs": [
    {
     "name": "stdout",
     "output_type": "stream",
     "text": [
      "[{'timestamp': '2018-05-11T00:00:00Z', 'value': 98}, {'timestamp': '2018-05-18T00:00:00Z', 'value': 96}, {'timestamp': '2018-05-25T00:00:00Z', 'value': 98}, {'timestamp': '2018-06-01T00:00:00Z', 'value': 101}, {'timestamp': '2018-06-08T00:00:00Z', 'value': 102}, {'timestamp': '2018-06-15T00:00:00Z', 'value': 100}, {'timestamp': '2018-06-22T00:00:00Z', 'value': 100}, {'timestamp': '2018-06-29T00:00:00Z', 'value': 99}, {'timestamp': '2018-07-06T00:00:00Z', 'value': 101}, {'timestamp': '2018-07-13T00:00:00Z', 'value': 105}, {'timestamp': '2018-07-20T00:00:00Z', 'value': 106}, {'timestamp': '2018-07-27T00:00:00Z', 'value': 108}, {'timestamp': '2018-08-03T00:00:00Z', 'value': 108}, {'timestamp': '2018-08-10T00:00:00Z', 'value': 109}, {'timestamp': '2018-08-17T00:00:00Z', 'value': 108}, {'timestamp': '2018-08-24T00:00:00Z', 'value': 108}, {'timestamp': '2018-08-31T00:00:00Z', 'value': 112}, {'timestamp': '2018-09-07T00:00:00Z', 'value': 108}, {'timestamp': '2018-09-14T00:00:00Z', 'value': 113}, {'timestamp': '2018-09-21T00:00:00Z', 'value': 114}, {'timestamp': '2018-09-28T00:00:00Z', 'value': 114}, {'timestamp': '2018-10-05T00:00:00Z', 'value': 112}, {'timestamp': '2018-10-12T00:00:00Z', 'value': 110}, {'timestamp': '2018-10-19T00:00:00Z', 'value': 109}, {'timestamp': '2018-10-26T00:00:00Z', 'value': 107}, {'timestamp': '2018-11-02T00:00:00Z', 'value': 106}, {'timestamp': '2018-11-09T00:00:00Z', 'value': 110}, {'timestamp': '2018-11-16T00:00:00Z', 'value': 108}, {'timestamp': '2018-11-23T00:00:00Z', 'value': 103}, {'timestamp': '2018-11-30T00:00:00Z', 'value': 111}, {'timestamp': '2018-12-07T00:00:00Z', 'value': 105}, {'timestamp': '2018-12-14T00:00:00Z', 'value': 106}, {'timestamp': '2018-12-21T00:00:00Z', 'value': 98}, {'timestamp': '2018-12-28T00:00:00Z', 'value': 100}, {'timestamp': '2019-01-04T00:00:00Z', 'value': 102}, {'timestamp': '2019-01-11T00:00:00Z', 'value': 103}, {'timestamp': '2019-01-18T00:00:00Z', 'value': 108}, {'timestamp': '2019-01-25T00:00:00Z', 'value': 107}, {'timestamp': '2019-02-01T00:00:00Z', 'value': 103}, {'timestamp': '2019-02-08T00:00:00Z', 'value': 106}, {'timestamp': '2019-02-15T00:00:00Z', 'value': 108}, {'timestamp': '2019-02-22T00:00:00Z', 'value': 111}, {'timestamp': '2019-03-01T00:00:00Z', 'value': 113}, {'timestamp': '2019-03-08T00:00:00Z', 'value': 111}, {'timestamp': '2019-03-15T00:00:00Z', 'value': 116}, {'timestamp': '2019-03-22T00:00:00Z', 'value': 117}, {'timestamp': '2019-03-29T00:00:00Z', 'value': 118}, {'timestamp': '2019-04-05T00:00:00Z', 'value': 120}]\n"
     ]
    }
   ],
   "source": [
    "import json\n",
    "stock_data_from_av = json.load(open('stockdatafromav.json'))\n",
    "print(stock_data_from_av)"
   ]
  },
  {
   "cell_type": "markdown",
   "metadata": {},
   "source": [
    "Read JSON data from filesystem"
   ]
  },
  {
   "cell_type": "code",
   "execution_count": 16,
   "metadata": {},
   "outputs": [
    {
     "name": "stdout",
     "output_type": "stream",
     "text": [
      "[{\"timestamp\":\"2018-05-11T00:00:00Z\",\"value\":98},{\"timestamp\":\"2018-05-18T00:00:00Z\",\"value\":96},{\"timestamp\":\"2018-05-25T00:00:00Z\",\"value\":98},{\"timestamp\":\"2018-06-01T00:00:00Z\",\"value\":101},{\"timestamp\":\"2018-06-08T00:00:00Z\",\"value\":102},{\"timestamp\":\"2018-06-15T00:00:00Z\",\"value\":100},{\"timestamp\":\"2018-06-22T00:00:00Z\",\"value\":100},{\"timestamp\":\"2018-06-29T00:00:00Z\",\"value\":99},{\"timestamp\":\"2018-07-06T00:00:00Z\",\"value\":101},{\"timestamp\":\"2018-07-13T00:00:00Z\",\"value\":105},{\"timestamp\":\"2018-07-20T00:00:00Z\",\"value\":106},{\"timestamp\":\"2018-07-27T00:00:00Z\",\"value\":108},{\"timestamp\":\"2018-08-03T00:00:00Z\",\"value\":108},{\"timestamp\":\"2018-08-10T00:00:00Z\",\"value\":109},{\"timestamp\":\"2018-08-17T00:00:00Z\",\"value\":108},{\"timestamp\":\"2018-08-24T00:00:00Z\",\"value\":108},{\"timestamp\":\"2018-08-31T00:00:00Z\",\"value\":112},{\"timestamp\":\"2018-09-07T00:00:00Z\",\"value\":108},{\"timestamp\":\"2018-09-14T00:00:00Z\",\"value\":113},{\"timestamp\":\"2018-09-21T00:00:00Z\",\"value\":114},{\"timestamp\":\"2018-09-28T00:00:00Z\",\"value\":114},{\"timestamp\":\"2018-10-05T00:00:00Z\",\"value\":112},{\"timestamp\":\"2018-10-12T00:00:00Z\",\"value\":110},{\"timestamp\":\"2018-10-19T00:00:00Z\",\"value\":109},{\"timestamp\":\"2018-10-26T00:00:00Z\",\"value\":107},{\"timestamp\":\"2018-11-02T00:00:00Z\",\"value\":106},{\"timestamp\":\"2018-11-09T00:00:00Z\",\"value\":110},{\"timestamp\":\"2018-11-16T00:00:00Z\",\"value\":108},{\"timestamp\":\"2018-11-23T00:00:00Z\",\"value\":103},{\"timestamp\":\"2018-11-30T00:00:00Z\",\"value\":111},{\"timestamp\":\"2018-12-07T00:00:00Z\",\"value\":105},{\"timestamp\":\"2018-12-14T00:00:00Z\",\"value\":106},{\"timestamp\":\"2018-12-21T00:00:00Z\",\"value\":98},{\"timestamp\":\"2018-12-28T00:00:00Z\",\"value\":100},{\"timestamp\":\"2019-01-04T00:00:00Z\",\"value\":102},{\"timestamp\":\"2019-01-11T00:00:00Z\",\"value\":103},{\"timestamp\":\"2019-01-18T00:00:00Z\",\"value\":108},{\"timestamp\":\"2019-01-25T00:00:00Z\",\"value\":107},{\"timestamp\":\"2019-02-01T00:00:00Z\",\"value\":103},{\"timestamp\":\"2019-02-08T00:00:00Z\",\"value\":106},{\"timestamp\":\"2019-02-15T00:00:00Z\",\"value\":108},{\"timestamp\":\"2019-02-22T00:00:00Z\",\"value\":111},{\"timestamp\":\"2019-03-01T00:00:00Z\",\"value\":113},{\"timestamp\":\"2019-03-08T00:00:00Z\",\"value\":111},{\"timestamp\":\"2019-03-15T00:00:00Z\",\"value\":116},{\"timestamp\":\"2019-03-22T00:00:00Z\",\"value\":117},{\"timestamp\":\"2019-03-29T00:00:00Z\",\"value\":118},{\"timestamp\":\"2019-04-05T00:00:00Z\",\"value\":120}]\n"
     ]
    }
   ],
   "source": [
    "with open(r\"stockdatafromav.json\", \"r+\") as f:\n",
    "    rjsoninfile = f.read()\n",
    "    print(rjsoninfile)"
   ]
  },
  {
   "cell_type": "markdown",
   "metadata": {},
   "source": [
    "Adding some specific prefix to fit Anomaly Detector API format"
   ]
  },
  {
   "cell_type": "code",
   "execution_count": 17,
   "metadata": {},
   "outputs": [
    {
     "name": "stdout",
     "output_type": "stream",
     "text": [
      "{\"granularity\": \"weekly\", \"series\": [{\"timestamp\":\"2018-05-11T00:00:00Z\",\"value\":98},{\"timestamp\":\"2018-05-18T00:00:00Z\",\"value\":96},{\"timestamp\":\"2018-05-25T00:00:00Z\",\"value\":98},{\"timestamp\":\"2018-06-01T00:00:00Z\",\"value\":101},{\"timestamp\":\"2018-06-08T00:00:00Z\",\"value\":102},{\"timestamp\":\"2018-06-15T00:00:00Z\",\"value\":100},{\"timestamp\":\"2018-06-22T00:00:00Z\",\"value\":100},{\"timestamp\":\"2018-06-29T00:00:00Z\",\"value\":99},{\"timestamp\":\"2018-07-06T00:00:00Z\",\"value\":101},{\"timestamp\":\"2018-07-13T00:00:00Z\",\"value\":105},{\"timestamp\":\"2018-07-20T00:00:00Z\",\"value\":106},{\"timestamp\":\"2018-07-27T00:00:00Z\",\"value\":108},{\"timestamp\":\"2018-08-03T00:00:00Z\",\"value\":108},{\"timestamp\":\"2018-08-10T00:00:00Z\",\"value\":109},{\"timestamp\":\"2018-08-17T00:00:00Z\",\"value\":108},{\"timestamp\":\"2018-08-24T00:00:00Z\",\"value\":108},{\"timestamp\":\"2018-08-31T00:00:00Z\",\"value\":112},{\"timestamp\":\"2018-09-07T00:00:00Z\",\"value\":108},{\"timestamp\":\"2018-09-14T00:00:00Z\",\"value\":113},{\"timestamp\":\"2018-09-21T00:00:00Z\",\"value\":114},{\"timestamp\":\"2018-09-28T00:00:00Z\",\"value\":114},{\"timestamp\":\"2018-10-05T00:00:00Z\",\"value\":112},{\"timestamp\":\"2018-10-12T00:00:00Z\",\"value\":110},{\"timestamp\":\"2018-10-19T00:00:00Z\",\"value\":109},{\"timestamp\":\"2018-10-26T00:00:00Z\",\"value\":107},{\"timestamp\":\"2018-11-02T00:00:00Z\",\"value\":106},{\"timestamp\":\"2018-11-09T00:00:00Z\",\"value\":110},{\"timestamp\":\"2018-11-16T00:00:00Z\",\"value\":108},{\"timestamp\":\"2018-11-23T00:00:00Z\",\"value\":103},{\"timestamp\":\"2018-11-30T00:00:00Z\",\"value\":111},{\"timestamp\":\"2018-12-07T00:00:00Z\",\"value\":105},{\"timestamp\":\"2018-12-14T00:00:00Z\",\"value\":106},{\"timestamp\":\"2018-12-21T00:00:00Z\",\"value\":98},{\"timestamp\":\"2018-12-28T00:00:00Z\",\"value\":100},{\"timestamp\":\"2019-01-04T00:00:00Z\",\"value\":102},{\"timestamp\":\"2019-01-11T00:00:00Z\",\"value\":103},{\"timestamp\":\"2019-01-18T00:00:00Z\",\"value\":108},{\"timestamp\":\"2019-01-25T00:00:00Z\",\"value\":107},{\"timestamp\":\"2019-02-01T00:00:00Z\",\"value\":103},{\"timestamp\":\"2019-02-08T00:00:00Z\",\"value\":106},{\"timestamp\":\"2019-02-15T00:00:00Z\",\"value\":108},{\"timestamp\":\"2019-02-22T00:00:00Z\",\"value\":111},{\"timestamp\":\"2019-03-01T00:00:00Z\",\"value\":113},{\"timestamp\":\"2019-03-08T00:00:00Z\",\"value\":111},{\"timestamp\":\"2019-03-15T00:00:00Z\",\"value\":116},{\"timestamp\":\"2019-03-22T00:00:00Z\",\"value\":117},{\"timestamp\":\"2019-03-29T00:00:00Z\",\"value\":118},{\"timestamp\":\"2019-04-05T00:00:00Z\",\"value\":120}]\n"
     ]
    }
   ],
   "source": [
    "with open(r\"stockdatafromav.json\", \"w+\") as f:\n",
    "        f.write(\"{\\\"granularity\\\": \\\"weekly\\\", \\\"series\\\": \" + rjsoninfile)\n",
    "with open(r\"stockdatafromav.json\", \"r+\") as f:\n",
    "        rjsoninfilea = f.read()\n",
    "        print(rjsoninfilea)"
   ]
  },
  {
   "cell_type": "markdown",
   "metadata": {},
   "source": [
    "Adding some specfic suffix to fit Anomaly Detector API format"
   ]
  },
  {
   "cell_type": "code",
   "execution_count": 18,
   "metadata": {},
   "outputs": [
    {
     "name": "stdout",
     "output_type": "stream",
     "text": [
      "{\"granularity\": \"weekly\", \"series\": [{\"timestamp\":\"2018-05-11T00:00:00Z\",\"value\":98},{\"timestamp\":\"2018-05-18T00:00:00Z\",\"value\":96},{\"timestamp\":\"2018-05-25T00:00:00Z\",\"value\":98},{\"timestamp\":\"2018-06-01T00:00:00Z\",\"value\":101},{\"timestamp\":\"2018-06-08T00:00:00Z\",\"value\":102},{\"timestamp\":\"2018-06-15T00:00:00Z\",\"value\":100},{\"timestamp\":\"2018-06-22T00:00:00Z\",\"value\":100},{\"timestamp\":\"2018-06-29T00:00:00Z\",\"value\":99},{\"timestamp\":\"2018-07-06T00:00:00Z\",\"value\":101},{\"timestamp\":\"2018-07-13T00:00:00Z\",\"value\":105},{\"timestamp\":\"2018-07-20T00:00:00Z\",\"value\":106},{\"timestamp\":\"2018-07-27T00:00:00Z\",\"value\":108},{\"timestamp\":\"2018-08-03T00:00:00Z\",\"value\":108},{\"timestamp\":\"2018-08-10T00:00:00Z\",\"value\":109},{\"timestamp\":\"2018-08-17T00:00:00Z\",\"value\":108},{\"timestamp\":\"2018-08-24T00:00:00Z\",\"value\":108},{\"timestamp\":\"2018-08-31T00:00:00Z\",\"value\":112},{\"timestamp\":\"2018-09-07T00:00:00Z\",\"value\":108},{\"timestamp\":\"2018-09-14T00:00:00Z\",\"value\":113},{\"timestamp\":\"2018-09-21T00:00:00Z\",\"value\":114},{\"timestamp\":\"2018-09-28T00:00:00Z\",\"value\":114},{\"timestamp\":\"2018-10-05T00:00:00Z\",\"value\":112},{\"timestamp\":\"2018-10-12T00:00:00Z\",\"value\":110},{\"timestamp\":\"2018-10-19T00:00:00Z\",\"value\":109},{\"timestamp\":\"2018-10-26T00:00:00Z\",\"value\":107},{\"timestamp\":\"2018-11-02T00:00:00Z\",\"value\":106},{\"timestamp\":\"2018-11-09T00:00:00Z\",\"value\":110},{\"timestamp\":\"2018-11-16T00:00:00Z\",\"value\":108},{\"timestamp\":\"2018-11-23T00:00:00Z\",\"value\":103},{\"timestamp\":\"2018-11-30T00:00:00Z\",\"value\":111},{\"timestamp\":\"2018-12-07T00:00:00Z\",\"value\":105},{\"timestamp\":\"2018-12-14T00:00:00Z\",\"value\":106},{\"timestamp\":\"2018-12-21T00:00:00Z\",\"value\":98},{\"timestamp\":\"2018-12-28T00:00:00Z\",\"value\":100},{\"timestamp\":\"2019-01-04T00:00:00Z\",\"value\":102},{\"timestamp\":\"2019-01-11T00:00:00Z\",\"value\":103},{\"timestamp\":\"2019-01-18T00:00:00Z\",\"value\":108},{\"timestamp\":\"2019-01-25T00:00:00Z\",\"value\":107},{\"timestamp\":\"2019-02-01T00:00:00Z\",\"value\":103},{\"timestamp\":\"2019-02-08T00:00:00Z\",\"value\":106},{\"timestamp\":\"2019-02-15T00:00:00Z\",\"value\":108},{\"timestamp\":\"2019-02-22T00:00:00Z\",\"value\":111},{\"timestamp\":\"2019-03-01T00:00:00Z\",\"value\":113},{\"timestamp\":\"2019-03-08T00:00:00Z\",\"value\":111},{\"timestamp\":\"2019-03-15T00:00:00Z\",\"value\":116},{\"timestamp\":\"2019-03-22T00:00:00Z\",\"value\":117},{\"timestamp\":\"2019-03-29T00:00:00Z\",\"value\":118},{\"timestamp\":\"2019-04-05T00:00:00Z\",\"value\":120}]}\n"
     ]
    }
   ],
   "source": [
    "with open(r\"stockdatafromav.json\", \"w+\") as f:\n",
    "        f.write(rjsoninfilea + \"}\")\n",
    "with open(r\"stockdatafromav.json\", \"r+\") as f:\n",
    "        rjsoninfileb = f.read()\n",
    "        print(rjsoninfileb)"
   ]
  },
  {
   "cell_type": "markdown",
   "metadata": {},
   "source": [
    "Trying to import JSON data again"
   ]
  },
  {
   "cell_type": "code",
   "execution_count": 19,
   "metadata": {},
   "outputs": [
    {
     "name": "stdout",
     "output_type": "stream",
     "text": [
      "{'granularity': 'weekly', 'series': [{'timestamp': '2018-05-11T00:00:00Z', 'value': 98}, {'timestamp': '2018-05-18T00:00:00Z', 'value': 96}, {'timestamp': '2018-05-25T00:00:00Z', 'value': 98}, {'timestamp': '2018-06-01T00:00:00Z', 'value': 101}, {'timestamp': '2018-06-08T00:00:00Z', 'value': 102}, {'timestamp': '2018-06-15T00:00:00Z', 'value': 100}, {'timestamp': '2018-06-22T00:00:00Z', 'value': 100}, {'timestamp': '2018-06-29T00:00:00Z', 'value': 99}, {'timestamp': '2018-07-06T00:00:00Z', 'value': 101}, {'timestamp': '2018-07-13T00:00:00Z', 'value': 105}, {'timestamp': '2018-07-20T00:00:00Z', 'value': 106}, {'timestamp': '2018-07-27T00:00:00Z', 'value': 108}, {'timestamp': '2018-08-03T00:00:00Z', 'value': 108}, {'timestamp': '2018-08-10T00:00:00Z', 'value': 109}, {'timestamp': '2018-08-17T00:00:00Z', 'value': 108}, {'timestamp': '2018-08-24T00:00:00Z', 'value': 108}, {'timestamp': '2018-08-31T00:00:00Z', 'value': 112}, {'timestamp': '2018-09-07T00:00:00Z', 'value': 108}, {'timestamp': '2018-09-14T00:00:00Z', 'value': 113}, {'timestamp': '2018-09-21T00:00:00Z', 'value': 114}, {'timestamp': '2018-09-28T00:00:00Z', 'value': 114}, {'timestamp': '2018-10-05T00:00:00Z', 'value': 112}, {'timestamp': '2018-10-12T00:00:00Z', 'value': 110}, {'timestamp': '2018-10-19T00:00:00Z', 'value': 109}, {'timestamp': '2018-10-26T00:00:00Z', 'value': 107}, {'timestamp': '2018-11-02T00:00:00Z', 'value': 106}, {'timestamp': '2018-11-09T00:00:00Z', 'value': 110}, {'timestamp': '2018-11-16T00:00:00Z', 'value': 108}, {'timestamp': '2018-11-23T00:00:00Z', 'value': 103}, {'timestamp': '2018-11-30T00:00:00Z', 'value': 111}, {'timestamp': '2018-12-07T00:00:00Z', 'value': 105}, {'timestamp': '2018-12-14T00:00:00Z', 'value': 106}, {'timestamp': '2018-12-21T00:00:00Z', 'value': 98}, {'timestamp': '2018-12-28T00:00:00Z', 'value': 100}, {'timestamp': '2019-01-04T00:00:00Z', 'value': 102}, {'timestamp': '2019-01-11T00:00:00Z', 'value': 103}, {'timestamp': '2019-01-18T00:00:00Z', 'value': 108}, {'timestamp': '2019-01-25T00:00:00Z', 'value': 107}, {'timestamp': '2019-02-01T00:00:00Z', 'value': 103}, {'timestamp': '2019-02-08T00:00:00Z', 'value': 106}, {'timestamp': '2019-02-15T00:00:00Z', 'value': 108}, {'timestamp': '2019-02-22T00:00:00Z', 'value': 111}, {'timestamp': '2019-03-01T00:00:00Z', 'value': 113}, {'timestamp': '2019-03-08T00:00:00Z', 'value': 111}, {'timestamp': '2019-03-15T00:00:00Z', 'value': 116}, {'timestamp': '2019-03-22T00:00:00Z', 'value': 117}, {'timestamp': '2019-03-29T00:00:00Z', 'value': 118}, {'timestamp': '2019-04-05T00:00:00Z', 'value': 120}]}\n"
     ]
    }
   ],
   "source": [
    "import json\n",
    "stock_data_from_av = json.load(open('stockdatafromav.json'))\n",
    "print(stock_data_from_av)"
   ]
  },
  {
   "cell_type": "markdown",
   "metadata": {},
   "source": [
    "All Done!"
   ]
  }
 ],
 "metadata": {
  "kernelspec": {
   "display_name": "Python 3 (ipykernel)",
   "language": "python",
   "name": "python3"
  },
  "language_info": {
   "codemirror_mode": {
    "name": "ipython",
    "version": 3
   },
   "file_extension": ".py",
   "mimetype": "text/x-python",
   "name": "python",
   "nbconvert_exporter": "python",
   "pygments_lexer": "ipython3",
   "version": "3.9.7"
  }
 },
 "nbformat": 4,
 "nbformat_minor": 2
}
